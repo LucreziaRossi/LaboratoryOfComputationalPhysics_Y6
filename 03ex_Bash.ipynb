{
 "cells": [
  {
   "cell_type": "markdown",
   "id": "b5746bd0",
   "metadata": {},
   "source": [
    "The following exercises are meant to be solved by gathering the bash commands incrimentally in two scripts, one for ex 1.* the other for ex 2.* "
   ]
  },
  {
   "cell_type": "markdown",
   "id": "4e60de78",
   "metadata": {},
   "source": [
    "### Ex 1"
   ]
  },
  {
   "cell_type": "markdown",
   "id": "6759df36",
   "metadata": {},
   "source": [
    "1\\.a Make a new directory called `students` in your home. Download a csv file with the list of students of this lab from [here](https://www.dropbox.com/s/867rtx3az6e9gm8/LCP_22-23_students.csv) (use the `wget` command) and copy that to `students`. First check whether the file is already there"
   ]
  },
  {
   "cell_type": "markdown",
   "id": "b86bd2f7",
   "metadata": {},
   "source": [
    "#!/bin/bash\n",
    "\n",
    "# Exercise 1.a\n",
    "echo \"Exercise 1.a: Make a new directory called 'students' in your home.\"\n",
    "mkdir -p ~/students\n",
    "\n",
    "# Change to the 'students' directory\n",
    "cd ~/students\n",
    "\n",
    "# Check if the file already exists\n",
    "if [ -e \"LCP_22-23_students.csv\" ]; then\n",
    "    echo \"The file 'LCP_22-23_students.csv' already exists in the 'students' directory.\"\n",
    "else\n",
    "    # Download the CSV file using wget\n",
    "    echo \"Downloading the CSV file...\"\n",
    "    wget https://www.dropbox.com/s/867rtx3az6e9gm8/LCP_22-23_students.csv\n",
    "\n",
    "    # Check if the download was successful\n",
    "    if [ $? -eq 0 ]; then\n",
    "        echo \"File downloaded successfully and copied to 'students' directory.\"\n",
    "    else\n",
    "        echo \"Error downloading the file. Please check the URL and try again.\"\n",
    "    fi\n",
    "fi"
   ]
  },
  {
   "cell_type": "markdown",
   "id": "798c0c9d",
   "metadata": {},
   "source": [
    "1\\.b Make two new files, one containing the students belonging to PoD, the other to Physics."
   ]
  },
  {
   "cell_type": "markdown",
   "id": "f4c30a3e",
   "metadata": {},
   "source": [
    "#!/bin/bash\n",
    "\n",
    "# Exercise 1.b\n",
    "echo \"Exercise 1.b: Make two new files, one containing the students belonging to PoD, and the other to Physics.\"\n",
    "\n",
    "# Create directories if they don't exist\n",
    "mkdir -p ~/students/PoD\n",
    "mkdir -p ~/students/Physics\n",
    "\n",
    "# Change to the 'students' directory\n",
    "cd ~/students\n",
    "\n",
    "# Check if the main CSV file exists\n",
    "if [ ! -e \"LCP_22-23_students.csv\" ]; then\n",
    "    echo \"Error: 'LCP_22-23_students.csv' not found. Please run Exercise 1.a first.\"\n",
    "    exit 1\n",
    "fi\n",
    "\n",
    "# Filter students based on their majors\n",
    "grep \"PoD\" LCP_22-23_students.csv > PoD_students.csv\n",
    "grep \"Physics\" LCP_22-23_students.csv > Physics_students.csv\n",
    "\n",
    "echo \"Files created successfully:\"\n",
    "echo \"PoD students: PoD_students.csv\"\n",
    "echo \"Physics students: Physics_students.csv\""
   ]
  },
  {
   "cell_type": "markdown",
   "id": "8a43d622",
   "metadata": {},
   "source": [
    "1\\.c For each letter of the alphabet, count the number of students whose surname starts with that letter. "
   ]
  },
  {
   "cell_type": "markdown",
   "id": "5bcc3f2b",
   "metadata": {},
   "source": [
    "#!/bin/bash\n",
    "\n",
    "# Exercise 1.c\n",
    "echo \"Exercise 1.c: For each letter of the alphabet, count the number of students whose surname starts with that letter.\"\n",
    "\n",
    "# Change to the 'students' directory\n",
    "cd ~/students\n",
    "\n",
    "# Check if the main CSV file exists\n",
    "if [ ! -e \"LCP_22-23_students.csv\" ]; then\n",
    "    echo \"Error: 'LCP_22-23_students.csv' not found. Please run Exercise 1.a first.\"\n",
    "    exit 1\n",
    "fi\n",
    "\n",
    "# Function to count students for each letter\n",
    "count_students() {\n",
    "    letter=$1\n",
    "    count=$(grep -i \"^$letter\" LCP_22-23_students.csv | wc -l)\n",
    "    echo \"Number of students with surname starting with $letter: $count\"\n",
    "}\n",
    "\n",
    "# Iterate through each letter of the alphabet\n",
    "for letter in {A..Z}; do\n",
    "    count_students $letter\n",
    "done"
   ]
  },
  {
   "cell_type": "markdown",
   "id": "4ba6bc90",
   "metadata": {},
   "source": [
    "1\\.d Find out which is the letter with most counts."
   ]
  },
  {
   "cell_type": "markdown",
   "id": "d4a236b7",
   "metadata": {},
   "source": [
    "#!/bin/bash\n",
    "\n",
    "# Exercise 1.d\n",
    "echo \"Exercise 1.d: Find out which is the letter with the most counts.\"\n",
    "\n",
    "# Change to the 'students' directory\n",
    "cd ~/students\n",
    "\n",
    "# Check if the main CSV file exists\n",
    "if [ ! -e \"LCP_22-23_students.csv\" ]; then\n",
    "    echo \"Error: 'LCP_22-23_students.csv' not found. Please run Exercise 1.a first.\"\n",
    "    exit 1\n",
    "fi\n",
    "\n",
    "# Function to count students for each letter\n",
    "count_students() {\n",
    "    letter=$1\n",
    "    count=$(grep -i \"^$letter\" LCP_22-23_students.csv | wc -l)\n",
    "    echo \"Number of students with surname starting with $letter: $count\"\n",
    "    echo \"$count $letter\" >> letter_counts.txt\n",
    "}\n",
    "\n",
    "# Iterate through each letter of the alphabet\n",
    "for letter in {A..Z}; do\n",
    "    count_students $letter\n",
    "done\n",
    "\n",
    "# Find the letter with the most counts\n",
    "max_letter=$(sort -nr -k1 letter_counts.txt | head -n 1 | awk '{print $2}')\n",
    "max_count=$(sort -nr -k1 letter_counts.txt | head -n 1 | awk '{print $1}')\n",
    "\n",
    "echo \"The letter with the most counts is $max_letter with $max_count students.\""
   ]
  },
  {
   "cell_type": "markdown",
   "id": "086a043c",
   "metadata": {},
   "source": [
    "1\\.e Assume an obvious numbering of the students in the file (first line is 1, second line is 2, etc.), group students \"modulo 18\", i.e. 1,19,37,.. 2,20,38,.. etc. and put each group in a separate file  "
   ]
  },
  {
   "cell_type": "markdown",
   "id": "ada35215",
   "metadata": {},
   "source": [
    "#!/bin/bash\n",
    "\n",
    "# Exercise 1.e\n",
    "echo \"Exercise 1.e: Group students 'modulo 18' and put each group in a separate file.\"\n",
    "\n",
    "# Change to the 'students' directory\n",
    "cd ~/students\n",
    "\n",
    "# Check if the main CSV file exists\n",
    "if [ ! -e \"LCP_22-23_students.csv\" ]; then\n",
    "    echo \"Error: 'LCP_22-23_students.csv' not found. Please run Exercise 1.a first.\"\n",
    "    exit 1\n",
    "fi\n",
    "\n",
    "# Function to group students by modulo 18\n",
    "group_students() {\n",
    "    modulo=$1\n",
    "    awk -v modulo=\"$modulo\" 'NR % 18 == modulo' LCP_22-23_students.csv > \"group_$modulo.csv\"\n",
    "    echo \"Group $modulo: Created file 'group_$modulo.csv'\"\n",
    "}\n",
    "\n",
    "# Iterate through modulo 18\n",
    "for (( i = 1; i <= 18; i++ )); do\n",
    "    group_students $i\n",
    "done"
   ]
  },
  {
   "cell_type": "markdown",
   "id": "1d730d21",
   "metadata": {},
   "source": [
    "### Ex 2"
   ]
  },
  {
   "cell_type": "markdown",
   "id": "4b87ecb7",
   "metadata": {},
   "source": [
    "2.a Make a copy of the file `data.csv` removing the metadata and the commas between numbers; call it `data.txt`"
   ]
  },
  {
   "cell_type": "markdown",
   "id": "294c6bb0",
   "metadata": {},
   "source": [
    "# Exercise 2.a\n",
    "echo \"Exercise 2.a: Make a copy of the file 'data.csv' removing metadata and commas between numbers; call it 'data.txt'.\"\n",
    "\n",
    "# Check if the data.csv file exists\n",
    "if [ ! -e \"data.csv\" ]; then\n",
    "    echo \"Error: 'data.csv' not found. Please make sure the file exists.\"\n",
    "    exit 1\n",
    "fi\n",
    "\n",
    "# Remove metadata and commas between numbers using sed\n",
    "sed -E '1d; s/,([0-9]+),/\\1 /g' data.csv > data.txt\n",
    "\n",
    "echo \"File 'data.txt' created successfully.\""
   ]
  },
  {
   "cell_type": "markdown",
   "id": "344048c8",
   "metadata": {},
   "source": [
    "2\\.b How many even numbers are there?"
   ]
  },
  {
   "cell_type": "markdown",
   "id": "ce767fa8",
   "metadata": {},
   "source": [
    "# Exercise 2.b\n",
    "echo \"Exercise 2.b: Count the number of even numbers in 'data.txt'.\"\n",
    "\n",
    "# Check if the data.txt file exists\n",
    "if [ ! -e \"data.txt\" ]; then\n",
    "    echo \"Error: 'data.txt' not found. Please run Exercise 2.a first.\"\n",
    "    exit 1\n",
    "fi\n",
    "\n",
    "# Count the number of even numbers using grep and wc\n",
    "even_count=$(grep -oE '\\b[0-9]+[02468]\\b' data.txt | wc -l)\n",
    "\n",
    "echo \"Number of even numbers in 'data.txt': $even_count\""
   ]
  },
  {
   "cell_type": "markdown",
   "id": "2a27138d",
   "metadata": {},
   "source": [
    "2\\.c Distinguish the entries on the basis of `sqrt(X^2 + Y^2 + Z^2)` is greater or smaller than `100*sqrt(3)/2`. Count the entries of each of the two groups "
   ]
  },
  {
   "cell_type": "markdown",
   "id": "ea59fd66",
   "metadata": {},
   "source": [
    "# Exercise 2.c\n",
    "echo \"Exercise 2.c: Distinguish entries based on 'sqrt(X^2 + Y^2 + Z^2)' and count the entries for each group.\"\n",
    "\n",
    "# Check if the data.txt file exists\n",
    "if [ ! -e \"data.txt\" ]; then\n",
    "    echo \"Error: 'data.txt' not found. Please run Exercise 2.a first.\"\n",
    "    exit 1\n",
    "fi\n",
    "\n",
    "# Create two groups based on the condition\n",
    "awk '{ sqrt_val = sqrt($1^2 + $2^2 + $3^2); if (sqrt_val > 100*sqrt(3)/2) print \"Group A:\", $0; else print \"Group B:\", $0; }' data.txt > grouped_data.txt\n",
    "\n",
    "# Count the entries for each group\n",
    "count_group_a=$(grep -c \"Group A\" grouped_data.txt)\n",
    "count_group_b=$(grep -c \"Group B\" grouped_data.txt)\n",
    "\n",
    "echo \"Number of entries in Group A: $count_group_a\"\n",
    "echo \"Number of entries in Group B: $count_group_b\""
   ]
  },
  {
   "cell_type": "markdown",
   "id": "e937ef4e",
   "metadata": {},
   "source": [
    "2\\.d Make `n` copies of data.txt (with `n` an input parameter of the script), where the i-th copy has all the numbers divided by i (with `1<=i<=n`)."
   ]
  },
  {
   "cell_type": "markdown",
   "id": "d3024e46",
   "metadata": {},
   "source": [
    "# Exercise 2.d\n",
    "echo \"Exercise 2.d: Make 'n' copies of data.txt, where the i-th copy has all the numbers divided by 'i'.\"\n",
    "\n",
    "# Check if the data.txt file exists\n",
    "if [ ! -e \"data.txt\" ]; then\n",
    "    echo \"Error: 'data.txt' not found. Please run Exercise 2.a first.\"\n",
    "    exit 1\n",
    "fi\n",
    "\n",
    "# Check if the number of copies (n) is provided as an argument\n",
    "if [ \"$#\" -ne 1 ]; then\n",
    "    echo \"Usage: $0 <number_of_copies>\"\n",
    "    exit 1\n",
    "fi\n",
    "\n",
    "# Get the number of copies from the script argument\n",
    "n=$1\n",
    "\n",
    "# Create 'n' copies with numbers divided by 'i'\n",
    "for ((i=1; i<=$n; i++)); do\n",
    "    awk -v factor=\"$i\" '{ for (j=1; j<=NF; j++) $j = $j / factor; print $0 }' data.txt > \"data_copy_$i.txt\"\n",
    "    echo \"Created data_copy_$i.txt with numbers divided by $i.\"\n",
    "done"
   ]
  }
 ],
 "metadata": {
  "kernelspec": {
   "display_name": "Python 3 (ipykernel)",
   "language": "python",
   "name": "python3"
  },
  "language_info": {
   "codemirror_mode": {
    "name": "ipython",
    "version": 3
   },
   "file_extension": ".py",
   "mimetype": "text/x-python",
   "name": "python",
   "nbconvert_exporter": "python",
   "pygments_lexer": "ipython3",
   "version": "3.11.5"
  }
 },
 "nbformat": 4,
 "nbformat_minor": 5
}
