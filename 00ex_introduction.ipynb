{
 "cells": [
  {
   "cell_type": "markdown",
   "metadata": {},
   "source": [
    "1. The MickeyMouse problem\n",
    "\n",
    "a) Write a program that prints the numbers from 1 to 100. But for multiples of 3 print `Mickey` instead of the corresponding number and for the multiples of 5 print `Mouse`. For numbers which are multiples of both three and five print `MickeyMouse`\n",
    "\n",
    "b) Put the result in a tuple and substitute `Mickey` with `Donald` and `Mouse` with `Duck`"
   ]
  },
  {
   "cell_type": "markdown",
   "metadata": {},
   "source": [
    "3\\. Computing the distance\n",
    "\n",
    "Write a function that calculates and returns the euclidean distance between two points *u* and *v*, where *u* and *v* are both 2-tuples *(x,y)*. For example, if *u=(3,0)* and *v=(0,4)*, the function should return 5"
   ]
  },
  {
   "cell_type": "markdown",
   "metadata": {},
   "source": [
    "2\\. The swap function\n",
    "\n",
    "Write a function that swap the values of two input variables x and y (whatever the type). Try to do that also without a temporary variable"
   ]
  },
  {
   "cell_type": "markdown",
   "metadata": {},
   "source": [
    "4\\. Counting letters\n",
    "\n",
    "Write a program to calculate the number of times each character occurs in a given string *s*. Ignore differneces in capitalization"
   ]
  },
  {
   "cell_type": "code",
   "execution_count": 61,
   "metadata": {},
   "outputs": [
    {
     "name": "stdout",
     "output_type": "stream",
     "text": [
      "  6\n",
      "a 1\n",
      "c 1\n",
      "d 1\n",
      "e 4\n",
      "h 1\n",
      "i 2\n",
      "l 2\n",
      "o 2\n",
      "r 2\n",
      "s 2\n",
      "t 3\n",
      "x 1\n",
      "y 1\n"
     ]
    }
   ],
   "source": [
    "#esercizio 1\n",
    "l=[]\n",
    "for i in range(1,101):\n",
    "    if i%3==0 and i%5!=0:\n",
    "        #print('Mickey')\n",
    "        l.append('Mickey')\n",
    "        l[l.index('Mickey')]='Donald'\n",
    "    elif i%5==0 and i%3!=0:\n",
    "        #print('Mouse')\n",
    "        l.append('Mouse')\n",
    "        l[l.index('Mouse')]='Duck'\n",
    "    elif i%5==0 and i%3==0:\n",
    "        #print('MickeyMouse')\n",
    "        l.append('MickeyMouse')\n",
    "    else:\n",
    "        #print(i)\n",
    "        l.append(i)\n",
    "       \n",
    "#print(l)\n",
    "t=tuple(l)\n",
    "#print(t)\n",
    "\n",
    "#esercizio 3\n",
    "import numpy as np\n",
    "def f(u,v):\n",
    "    result=np.sqrt((u[0]-v[0])**2+(u[1]-v[1])**2)\n",
    "    return result\n",
    "#f(u=(3,0), v=(0,4))\n",
    "\n",
    "#esercizio 2\n",
    "def function(x,y):\n",
    "    r=(y,x)\n",
    "    return r\n",
    "#function(1,2)\n",
    "\n",
    "#esercizio 4\n",
    "import pandas as pd\n",
    "phrase='I try to do all the exercises'\n",
    "#print(pd.Series(list(phrase)).value_counts())\n",
    "phrase=phrase.lower()\n",
    "p=[]\n",
    "for i in phrase:\n",
    "    if i not in p:\n",
    "        p.append(i)\n",
    "        p.sort()\n",
    "for c in p:\n",
    "    print(c,phrase.count(c))\n",
    "\n",
    "    \n",
    "\n"
   ]
  },
  {
   "cell_type": "markdown",
   "metadata": {},
   "source": [
    "5\\. Isolating the unique\n",
    "\n",
    "Write a function that determines and count the unique numbers in the list *l*"
   ]
  },
  {
   "cell_type": "code",
   "execution_count": 88,
   "metadata": {},
   "outputs": [
    {
     "data": {
      "text/plain": [
       "([58,\n",
       "  74,\n",
       "  96,\n",
       "  64,\n",
       "  10,\n",
       "  24,\n",
       "  19,\n",
       "  33,\n",
       "  86,\n",
       "  99,\n",
       "  18,\n",
       "  47,\n",
       "  88,\n",
       "  55,\n",
       "  54,\n",
       "  8,\n",
       "  79,\n",
       "  81,\n",
       "  57,\n",
       "  37,\n",
       "  1,\n",
       "  9,\n",
       "  95,\n",
       "  90,\n",
       "  98,\n",
       "  39,\n",
       "  16,\n",
       "  82,\n",
       "  92,\n",
       "  41,\n",
       "  30,\n",
       "  94,\n",
       "  5,\n",
       "  72,\n",
       "  87,\n",
       "  75,\n",
       "  53],\n",
       " 37)"
      ]
     },
     "execution_count": 88,
     "metadata": {},
     "output_type": "execute_result"
    }
   ],
   "source": [
    "\n",
    "#esercizio 5\n",
    "l = [36, 45, 58, 3, 74, 96, 64, 45, 31, 10, 24, 19, 33, 86, 99, 18, 63, 70, 85,\n",
    " 85, 63, 47, 56, 42, 70, 84, 88, 55, 20, 54, 8, 56, 51, 79, 81, 57, 37, 91,\n",
    " 1, 84, 84, 36, 66, 9, 89, 50, 42, 91, 50, 95, 90, 98, 39, 16, 82, 31, 92, 41,\n",
    " 45, 30, 66, 70, 34, 85, 94, 5, 3, 36, 72, 91, 84, 34, 87, 75, 53, 51, 20, 89, 51, 20]\n",
    "\n",
    "def f(l):\n",
    "    L=[]\n",
    "    for i in l:\n",
    "        if l.count(i)==1:\n",
    "            L.append(i)     \n",
    "    return(L,len(L))\n",
    "f(l)"
   ]
  },
  {
   "cell_type": "markdown",
   "metadata": {},
   "source": [
    "6\\. Combination of functions\n",
    "\n",
    "Write two functions - one that returns the square of a number, and one that returns the cube. Now write a third function that returns the number raised to the 6th power using the two previous functions."
   ]
  },
  {
   "cell_type": "markdown",
   "metadata": {},
   "source": [
    "7\\. Cubes\n",
    "\n",
    "Create a list of the cubes of x for x in *[0, 10]* using:\n",
    "\n",
    "a) a for loop\n",
    "\n",
    "b) a list comprehension"
   ]
  },
  {
   "cell_type": "markdown",
   "metadata": {},
   "source": [
    "8\\. Nested list comprehension\n",
    "\n",
    "A Pythagorean triple is an integer solution to the Pythagorean theorem $a^2+b^2=c^2$. The first Pythagorean triple is (3,4,5). Find and put in a tuple all unique Pythagorean triples for the positive integers a, b and c less than 100."
   ]
  },
  {
   "cell_type": "markdown",
   "metadata": {},
   "source": [
    "9\\. Normalization\n",
    "\n",
    "Write a function that takes a tuple of numbers and returns it with the entries normalized to one"
   ]
  },
  {
   "cell_type": "code",
   "execution_count": 1,
   "metadata": {},
   "outputs": [
    {
     "name": "stdout",
     "output_type": "stream",
     "text": [
      "3 4 5\n",
      "8 6 10\n",
      "5 12 13\n",
      "15 8 17\n",
      "12 16 20\n",
      "7 24 25\n",
      "24 10 26\n",
      "21 20 29\n",
      "16 30 34\n",
      "9 40 41\n",
      "35 12 37\n",
      "32 24 40\n",
      "27 36 45\n",
      "20 48 52\n",
      "11 60 61\n",
      "48 14 50\n",
      "45 28 53\n",
      "40 42 58\n",
      "33 56 65\n",
      "24 70 74\n",
      "13 84 85\n",
      "63 16 65\n",
      "60 32 68\n",
      "55 48 73\n",
      "48 64 80\n",
      "39 80 89\n",
      "28 96 100\n"
     ]
    }
   ],
   "source": [
    "#esercizio 6\n",
    "def f3(x):\n",
    "    def f1(x):\n",
    "        X=x**2\n",
    "        return X\n",
    "    def f2(x):\n",
    "        X=x**3\n",
    "        return X\n",
    "    F=f1(f2(x))\n",
    "    return F\n",
    "#f3(4)\n",
    "\n",
    "#esercizio 7\n",
    "l=[]\n",
    "for i in range(0,10):\n",
    "    x=i**3\n",
    "    l.append(x)\n",
    "#print(l)  \n",
    "\n",
    "g=[x**3 for x in range(10)]\n",
    "#print(g)\n",
    "\n",
    "#esercizio 8\n",
    "limit=int(100)\n",
    "c=0\n",
    "m=2\n",
    "while(c<limit):\n",
    "    for n in range(1,m+1):\n",
    "        a=m*m-n*n\n",
    "        b=2*m*n\n",
    "        c=m*m+n*n\n",
    "        if(c>limit):\n",
    "            break\n",
    "        if(a==0 or b==0 or c==0):\n",
    "            break\n",
    "        #print(a,b,c)\n",
    "    m=m+1\n",
    "    \n",
    "#esercizio 9\n",
    "\n",
    "def function(h):\n",
    "    d=np.sqrt(np.sum(np.square(h)))\n",
    "    D=h/d    \n",
    "    return D\n",
    "function(h=(3,4,5))   \n",
    "\n"
   ]
  },
  {
   "cell_type": "code",
   "execution_count": null,
   "metadata": {},
   "outputs": [],
   "source": []
  }
 ],
 "metadata": {
  "kernelspec": {
   "display_name": "Python 3 (ipykernel)",
   "language": "python",
   "name": "python3"
  },
  "language_info": {
   "codemirror_mode": {
    "name": "ipython",
    "version": 3
   },
   "file_extension": ".py",
   "mimetype": "text/x-python",
   "name": "python",
   "nbconvert_exporter": "python",
   "pygments_lexer": "ipython3",
   "version": "3.11.5"
  }
 },
 "nbformat": 4,
 "nbformat_minor": 2
}
