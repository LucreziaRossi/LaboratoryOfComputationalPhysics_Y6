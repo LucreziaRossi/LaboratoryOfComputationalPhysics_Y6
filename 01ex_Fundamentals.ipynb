{
 "cells": [
  {
   "cell_type": "markdown",
   "metadata": {},
   "source": [
    "0\\. Implement a function (whatever you want) and save it to a file (e.g. `function.py`). Import that file and use that function in this notebook.\n"
   ]
  },
  {
   "cell_type": "markdown",
   "metadata": {},
   "source": [
    "1\\. Write the following as a list comprehension"
   ]
  },
  {
   "cell_type": "code",
   "execution_count": 3,
   "metadata": {},
   "outputs": [
    {
     "name": "stdout",
     "output_type": "stream",
     "text": [
      "[(0, 0), (0, 1), (0, 2), (0, 3), (1, 0), (1, 1), (1, 2), (1, 3), (2, 0), (2, 1), (2, 2), (2, 3)]\n",
      "[(0, 0), (0, 1), (0, 2), (0, 3), (1, 0), (1, 1), (1, 2), (1, 3), (2, 0), (2, 1), (2, 2), (2, 3)]\n",
      "[0, 4, 16]\n",
      "[0, 4, 16]\n"
     ]
    }
   ],
   "source": [
    "#0\n",
    "from function import *\n",
    "x=square(2)\n",
    "y=cube (3)\n",
    "#print(x,y)\n",
    "\n",
    "# 1\n",
    "ans = []\n",
    "for i in range(3):\n",
    "    for j in range(4):\n",
    "        ans.append((i, j))\n",
    "print (ans)\n",
    "ans1=[(x,y) for x in range(3) for y in range(4)]\n",
    "print(ans1)\n",
    "# 2\n",
    "ans = map(lambda x: x*x, filter(lambda x: x%2 == 0, range(5)))\n",
    "print (list(ans))\n",
    "ans1=[x**2 for x in range(5) if x%2==0]\n",
    "print(ans1)\n"
   ]
  },
  {
   "cell_type": "markdown",
   "metadata": {},
   "source": [
    "2\\. Convert the following function into a pure function with no global variables or side effects"
   ]
  },
  {
   "cell_type": "code",
   "execution_count": 4,
   "metadata": {},
   "outputs": [
    {
     "name": "stdout",
     "output_type": "stream",
     "text": [
      "[1, 2, 3, 0, 1, 2, 3, 4]\n",
      "[1, 2, 3, 0, 1, 2, 3, 4]\n",
      "[1, 2, 3, 0, 1, 2, 3, 4]\n",
      "[1, 2, 3]\n"
     ]
    }
   ],
   "source": [
    "#function with side effects\n",
    "x = 5\n",
    "def f(alist):\n",
    "    for i in range(x):\n",
    "         alist.append(i)\n",
    "    return alist\n",
    "\n",
    "alist = [1,2,3]\n",
    "ans = f(alist)\n",
    "print (ans)\n",
    "print (alist) # alist has been changed!\n",
    "\n",
    "#function without side effects\n",
    "def f(alist):\n",
    "    alist=alist.copy()\n",
    "    for i in range(5):  \n",
    "         alist.append(i)\n",
    "    return alist\n",
    "alist=[1,2,3]\n",
    "ans1 = f(alist)\n",
    "print (ans1)\n",
    "print(alist)\n"
   ]
  },
  {
   "cell_type": "markdown",
   "metadata": {},
   "source": [
    "3\\. Write a `decorator` hello that makes every wrapped function print “Hello!”, i.e. something like:\n",
    "\n",
    "```python\n",
    "@hello\n",
    "def square(x):\n",
    "    return x*x\n",
    "```\n",
    "\n"
   ]
  },
  {
   "cell_type": "code",
   "execution_count": 5,
   "metadata": {},
   "outputs": [
    {
     "name": "stdout",
     "output_type": "stream",
     "text": [
      "Hello 8 your square is 64\n"
     ]
    }
   ],
   "source": [
    "def hello(func):\n",
    "    def wrapper(x):\n",
    "        print('Hello',x, 'your square is',func(x))   \n",
    "    return wrapper\n",
    "@hello\n",
    "def square(x):\n",
    "    return x*x\n",
    "square(8)"
   ]
  },
  {
   "cell_type": "markdown",
   "metadata": {},
   "source": [
    "4\\. Write the factorial function so that it a) does and b) does not use recursion."
   ]
  },
  {
   "cell_type": "code",
   "execution_count": 6,
   "metadata": {},
   "outputs": [],
   "source": [
    "#a) whit recursion\n",
    "def factorial(x):\n",
    "    if x==1 or x==0:\n",
    "        return x\n",
    "    else:\n",
    "        return x*factorial(x-1)\n",
    "    \n",
    "#b) whitout recursion\n",
    "def factorial1(x):\n",
    "    fact=1\n",
    "    while(x>0):\n",
    "        fact=fact*x\n",
    "        x=x-1\n",
    "    return fact"
   ]
  },
  {
   "cell_type": "markdown",
   "metadata": {},
   "source": [
    "5\\. Use HOFs (Higher Order Functions)(zip in particular) to compute the weight of a circle, a disk and a sphere, assuming different radii and different densities:\n",
    "\n",
    "```python\n",
    "densities = {\"Al\":[0.5,1,2],\"Fe\":[3,4,5],\"Pb\": [15,20,30]}\n",
    "radii = [1,2,3]\n",
    "```\n",
    "\n",
    "where the entries of the dictionary's values are the linear, superficial and volumetric densities of the materials respectively.\n",
    "\n",
    "In particular define a list of three lambda functions using a comprehension that computes the circumference, the area and the volume for a given radius.\n"
   ]
  },
  {
   "cell_type": "code",
   "execution_count": 14,
   "metadata": {},
   "outputs": [
    {
     "name": "stdout",
     "output_type": "stream",
     "text": [
      "Materiale Al\n",
      "Oggetto disco Massa [3.141592653589793, 6.283185307179586, 9.42477796076938]\n",
      "Oggetto cerchio Massa [3.141592653589793, 12.566370614359172, 28.274333882308138]\n",
      "Oggetto sfera Massa [8.377580409572781, 67.02064327658225, 226.1946710584651]\n",
      "Materiale Fe\n",
      "Oggetto disco Massa [18.84955592153876, 37.69911184307752, 56.548667764616276]\n",
      "Oggetto cerchio Massa [12.566370614359172, 50.26548245743669, 113.09733552923255]\n",
      "Oggetto sfera Massa [20.94395102393195, 167.5516081914556, 565.4866776461628]\n",
      "Materiale Pb\n",
      "Oggetto disco Massa [94.24777960769379, 188.49555921538757, 282.7433388230814]\n",
      "Oggetto cerchio Massa [62.83185307179586, 251.32741228718345, 565.4866776461628]\n",
      "Oggetto sfera Massa [125.66370614359171, 1005.3096491487337, 3392.9200658769764]\n"
     ]
    }
   ],
   "source": [
    "import math as m\n",
    "from function import *\n",
    "object=['disco','cerchio','sfera']\n",
    "densities = {\"Al\":[0.5,1,2],\"Fe\":[3,4,5],\"Pb\": [15,20,30]}\n",
    "radii = [1,2,3]\n",
    "\n",
    "funcs=[lambda r: 2*m.pi*r, lambda r: m.pi*square(r), lambda r: 4*m.pi*cube(r)/3]\n",
    "for materiale in densities:\n",
    "    print('Materiale',materiale)\n",
    "    for i, [d,c] in enumerate(zip(densities[materiale],funcs)):\n",
    "        print('Oggetto', object[i], 'Massa', [d*c(r) for r in radii])"
   ]
  },
  {
   "cell_type": "markdown",
   "metadata": {},
   "source": [
    "6\\. Edit the class defintion to add an instance attribute of is_hungry = True to the Dog class. Then add a method called eat() which changes the value of is_hungry to False when called. Figure out the best way to feed each dog and then output “My dogs are hungry.” if all are hungry or “My dogs are not hungry.” if all are not hungry. The final output should look like this:\n",
    "\n",
    "`I have 3 dogs. \n",
    "Tom is 6. \n",
    "Fletcher is 7. \n",
    "Larry is 9. \n",
    "And they're all mammals, of course. \n",
    "My dogs are not hungry.\n",
    "`\n",
    "\n",
    "```python\n",
    "# Parent class\n",
    "class Dog:\n",
    "\n",
    "    # Class attribute\n",
    "    species = 'mammal'\n",
    "\n",
    "    # Initializer / Instance attributes\n",
    "    def __init__(self, name, age):\n",
    "        self.name = name\n",
    "        self.age = age\n",
    "\n",
    "    # instance method\n",
    "    def description(self):\n",
    "        return \"{} is {} years old\".format(self.name, self.age)\n",
    "\n",
    "    # instance method\n",
    "    def speak(self, sound):\n",
    "        return \"{} says {}\".format(self.name, sound)\n",
    "\n",
    "# Child class (inherits from Dog class)\n",
    "class RussellTerrier(Dog):\n",
    "    def run(self, speed):\n",
    "        return \"{} runs {}\".format(self.name, speed)\n",
    "\n",
    "# Child class (inherits from Dog class)\n",
    "class Bulldog(Dog):\n",
    "    def run(self, speed):\n",
    "        return \"{} runs {}\".format(self.name, speed)\n",
    "```"
   ]
  },
  {
   "cell_type": "code",
   "execution_count": 4,
   "metadata": {},
   "outputs": [
    {
     "name": "stdout",
     "output_type": "stream",
     "text": [
      "I have 3 dogs.\n",
      "Tom is 6 years old\n",
      "Fletcher is 7 years old\n",
      "Larry is 9 years old\n",
      "And they're all mammal, of course.\n",
      "My dogs are not hungry.\n"
     ]
    }
   ],
   "source": [
    "# Parent class\n",
    "class Dog:\n",
    "\n",
    "    # Class attribute\n",
    "    species = 'mammal'\n",
    "\n",
    "    # Initializer / Instance attributes\n",
    "    def __init__(self, name, age):\n",
    "        self.name = name\n",
    "        self.age = age\n",
    "        self.is_hungry = True  # New instance attribute\n",
    "\n",
    "    # instance method\n",
    "    def description(self):\n",
    "        return \"{} is {} years old\".format(self.name, self.age)\n",
    "\n",
    "    # instance method\n",
    "    def speak(self, sound):\n",
    "        return \"{} says {}\".format(self.name, sound)\n",
    "    # New instance method\n",
    "    def eat(self):\n",
    "        self.is_hungry = False\n",
    "\n",
    "# Child class (inherits from Dog class)\n",
    "class RussellTerrier(Dog):\n",
    "    def run(self, speed):\n",
    "        return \"{} runs {}\".format(self.name, speed)\n",
    "\n",
    "# Child class (inherits from Dog class)\n",
    "class Bulldog(Dog):\n",
    "    def run(self, speed):\n",
    "        return \"{} runs {}\".format(self.name, speed)\n",
    "    \n",
    "# Create instances of the Dog class\n",
    "tom = RussellTerrier(name=\"Tom\", age=6)\n",
    "fletcher = Bulldog(name=\"Fletcher\", age=7)\n",
    "larry = Bulldog(name=\"Larry\", age=9)\n",
    "\n",
    "# Feed the dogs\n",
    "tom.eat()\n",
    "fletcher.eat()\n",
    "larry.eat()\n",
    "\n",
    "# Check if all dogs are hungry or not\n",
    "dogs = [tom, fletcher, larry]\n",
    "all_hungry = all(dog.is_hungry for dog in dogs)\n",
    "\n",
    "# Output information about the dogs\n",
    "print(\"I have {} dogs.\".format(len(dogs)))\n",
    "for dog in dogs:\n",
    "    print(dog.description())\n",
    "print(\"And they're all {}, of course.\".format(Dog.species))\n",
    "\n",
    "# Output whether the dogs are hungry or not\n",
    "if all_hungry:\n",
    "    print(\"My dogs are hungry.\")\n",
    "else:\n",
    "    print(\"My dogs are not hungry.\")"
   ]
  }
 ],
 "metadata": {
  "kernelspec": {
   "display_name": "Python 3 (ipykernel)",
   "language": "python",
   "name": "python3"
  },
  "language_info": {
   "codemirror_mode": {
    "name": "ipython",
    "version": 3
   },
   "file_extension": ".py",
   "mimetype": "text/x-python",
   "name": "python",
   "nbconvert_exporter": "python",
   "pygments_lexer": "ipython3",
   "version": "3.11.5"
  }
 },
 "nbformat": 4,
 "nbformat_minor": 2
}
