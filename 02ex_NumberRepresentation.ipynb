{
 "cells": [
  {
   "cell_type": "markdown",
   "metadata": {},
   "source": [
    "1\\. Write a function that converts number representation, bin<->dec<->hex. (Clearly using the corresponding python built-in functions is not fair..)"
   ]
  },
  {
   "cell_type": "code",
   "execution_count": 77,
   "metadata": {},
   "outputs": [
    {
     "name": "stdout",
     "output_type": "stream",
     "text": [
      "0xF4\n"
     ]
    }
   ],
   "source": [
    "import numpy as np\n",
    "#dec in bin\n",
    "def bin(x):\n",
    "    a=''\n",
    "    while x>0:\n",
    "        if x%2==0:\n",
    "            a='0'+a\n",
    "        else:\n",
    "            a='1'+a\n",
    "        x=int(x/2)\n",
    "    a='0b'+a\n",
    "    print(a)\n",
    "#dec in hex\n",
    "def hex(x):\n",
    "    esa=['0','1','2','3','4','5','6','7','8','9','A','B','C','D','E','F']\n",
    "    a=''\n",
    "    while x>0:\n",
    "        n=x%16\n",
    "        a=esa[n]+a\n",
    "        x=int(x/16) \n",
    "    a='0x'+a\n",
    "    print(a)\n",
    "#bin in dec\n",
    "def dec_bin(x):\n",
    "    x=str(x)\n",
    "    x=list(map(int,x))\n",
    "    x.reverse()\n",
    "    b=[]\n",
    "    for i in range(len(x)):\n",
    "        a=x[i]*2**(i)\n",
    "        b.append(a)\n",
    "    b=sum(b)\n",
    "    print(b) \n",
    "#hex in dec \n",
    "def dec_hex(x):\n",
    "    x=str(x)\n",
    "    x=list(x)\n",
    "    y=[]\n",
    "    b=[]\n",
    "    for i in range(len(x)):\n",
    "        if ord(x[i])<58:\n",
    "            y.append(x[i])\n",
    "        else:\n",
    "            a=ord(x[i])-87\n",
    "            y.append(a)\n",
    "    y=list(map(int,y))\n",
    "    y.reverse()\n",
    "    for i in range(len(x)):\n",
    "        a=y[i]*16**(i)\n",
    "        b.append(a)\n",
    "    b=sum(b)\n",
    "    print(b)\n",
    "\n",
    "        "
   ]
  },
  {
   "cell_type": "markdown",
   "metadata": {},
   "source": [
    "2\\. Write a function that converts a 32 bit word into a single precision floating point (i.e. interprets the various bits as sign, mantissa and exponent)"
   ]
  },
  {
   "cell_type": "code",
   "execution_count": 2,
   "metadata": {},
   "outputs": [
    {
     "name": "stdout",
     "output_type": "stream",
     "text": [
      "3.1415927410125732\n"
     ]
    }
   ],
   "source": [
    "def word_to_float(word):\n",
    "    # Define the bit masks for sign, exponent, and mantissa\n",
    "    sign_mask = 0x80000000  # 1 bit\n",
    "    exponent_mask = 0x7F800000  # 8 bits\n",
    "    mantissa_mask = 0x007FFFFF  # 23 bits\n",
    "\n",
    "    # Extract the sign, exponent, and mantissa bits using bit-wise operations\n",
    "    sign = -1 if word & sign_mask else 1\n",
    "    exponent = ((word & exponent_mask) >> 23) - 127\n",
    "    mantissa = 1 + ((word & mantissa_mask) / (2 ** 23))\n",
    "\n",
    "    # Calculate the floating-point value\n",
    "    result = sign * mantissa * (2 ** exponent)\n",
    "    \n",
    "    return result\n",
    "word = 0x40490FDB  # Example 32-bit word for the float value 3.14159\n",
    "float_value = word_to_float(word)\n",
    "print(float_value)"
   ]
  },
  {
   "cell_type": "markdown",
   "metadata": {},
   "source": [
    "3\\. Write a program to determine the underflow and overflow limits (within a factor of 2) for python on your computer. \n",
    "\n",
    "**Tips**: define two variables inizialized to 1 and halve/double them enough time to exceed the under/over-flow limits  "
   ]
  },
  {
   "cell_type": "code",
   "execution_count": 3,
   "metadata": {},
   "outputs": [
    {
     "name": "stdout",
     "output_type": "stream",
     "text": [
      "Underflow Limit: 5e-324\n",
      "Overflow Limit: 8.98846567431158e+307\n"
     ]
    }
   ],
   "source": [
    "def find_underflow_limit():\n",
    "    underflow_limit = 1.0\n",
    "    \n",
    "    while underflow_limit / 2 > 0:\n",
    "        underflow_limit /= 2\n",
    "    \n",
    "    return underflow_limit\n",
    "\n",
    "def find_overflow_limit():\n",
    "    overflow_limit = 1.0\n",
    "    \n",
    "    while overflow_limit * 2 < float('inf'):\n",
    "        overflow_limit *= 2\n",
    "    \n",
    "    return overflow_limit\n",
    "\n",
    "# Find and print the underflow limit\n",
    "underflow_limit = find_underflow_limit()\n",
    "print(\"Underflow Limit:\", underflow_limit)\n",
    "\n",
    "# Find and print the overflow limit\n",
    "overflow_limit = find_overflow_limit()\n",
    "print(\"Overflow Limit:\", overflow_limit)"
   ]
  },
  {
   "cell_type": "markdown",
   "metadata": {},
   "source": [
    "4\\. Write a program to determine the machine precision\n",
    "\n",
    "**Tips**: define a new variable by adding a smaller and smaller value (proceeding similarly to prob. 2) to an original variable and check the point where the two are the same "
   ]
  },
  {
   "cell_type": "code",
   "execution_count": 4,
   "metadata": {},
   "outputs": [
    {
     "name": "stdout",
     "output_type": "stream",
     "text": [
      "Machine Precision: 1.1102230246251565e-16\n"
     ]
    }
   ],
   "source": [
    "def find_machine_precision():\n",
    "    original_value = 1.0\n",
    "    epsilon = 1.0\n",
    "    \n",
    "    while (original_value + epsilon) != original_value:\n",
    "        epsilon /= 2\n",
    "    \n",
    "    return epsilon\n",
    "\n",
    "# Find and print the machine precision\n",
    "machine_precision = find_machine_precision()\n",
    "print(\"Machine Precision:\", machine_precision)"
   ]
  },
  {
   "cell_type": "markdown",
   "metadata": {},
   "source": [
    "5\\. Write a function that takes in input three parameters $a$, $b$ and $c$ and prints out the two solutions to the quadratic equation $ax^2+bx+c=0$ using the standard formula:\n",
    "$$\n",
    "x=\\frac{-b\\pm\\sqrt{b^2-4ac}}{2a}\n",
    "$$\n",
    "\n",
    "(a) use the program to compute the solution for $a=0.001$, $b=1000$ and $c=0.001$\n",
    "\n",
    "(b) re-express the standard solution formula by multiplying top and bottom by $-b\\mp\\sqrt{b^2-4ac}$ and again find the solution for $a=0.001$, $b=1000$ and $c=0.001$. How does it compare with what previously obtained? Why?\n",
    "\n",
    "(c) write a function that compute the roots of a quadratic equation accurately in all cases"
   ]
  },
  {
   "cell_type": "code",
   "execution_count": 5,
   "metadata": {},
   "outputs": [
    {
     "name": "stdout",
     "output_type": "stream",
     "text": [
      "(a) Roots using standard formula: ((-9.999894245993346e-07+0j), (-999999.999999+0j))\n",
      "(b) Roots using re-expressed formula: ((-1.000000000001e-06+0j), (-1000010.5755125057+0j))\n",
      "(c) Accurate roots: ((-9.999894245993346e-07+0j), (-999999.999999+0j))\n"
     ]
    }
   ],
   "source": [
    "#point (a)\n",
    "import cmath  # Importing complex math module for handling complex roots\n",
    "\n",
    "def quadratic_roots_standard(a, b, c):\n",
    "    # Calculate the discriminant\n",
    "    delta = cmath.sqrt(b**2 - 4*a*c)\n",
    "\n",
    "    # Calculate the two solutions\n",
    "    root1 = (-b + delta) / (2*a)\n",
    "    root2 = (-b - delta) / (2*a)\n",
    "\n",
    "    return root1, root2\n",
    "\n",
    "# Test the function with a=0.001, b=1000, c=0.001\n",
    "a = 0.001\n",
    "b = 1000\n",
    "c = 0.001\n",
    "\n",
    "roots_standard = quadratic_roots_standard(a, b, c)\n",
    "print(\"(a) Roots using standard formula:\", roots_standard)\n",
    "\n",
    "#point (b)\n",
    "def quadratic_roots_reexpressed(a, b, c):\n",
    "    # Calculate the discriminant\n",
    "    delta = cmath.sqrt(b**2 - 4*a*c)\n",
    "\n",
    "    # Calculate the two solutions using the re-expressed formula\n",
    "    root1 = (-2*c) / (b + delta)\n",
    "    root2 = (-2*c) / (b - delta)\n",
    "\n",
    "    return root1, root2\n",
    "\n",
    "# Test the function with a=0.001, b=1000, c=0.001\n",
    "roots_reexpressed = quadratic_roots_reexpressed(a, b, c)\n",
    "print(\"(b) Roots using re-expressed formula:\", roots_reexpressed)\n",
    "#The formula is re-expressed to avoid subtracting nearly equal numbers, which can lead to loss of precision.\n",
    "\n",
    "#point (c)\n",
    "def quadratic_roots(a, b, c):\n",
    "    # Calculate the discriminant\n",
    "    delta = cmath.sqrt(b**2 - 4*a*c)\n",
    "\n",
    "    # Check for special cases to avoid division by zero\n",
    "    if a == 0:\n",
    "        return \"Coefficient 'a' cannot be zero.\"\n",
    "\n",
    "    # Calculate the two solutions using the accurate formula\n",
    "    root1 = (-b + delta) / (2*a)\n",
    "    root2 = (-b - delta) / (2*a)\n",
    "\n",
    "    return root1, root2\n",
    "\n",
    "# Test the function with a=0.001, b=1000, c=0.001\n",
    "roots_accurate = quadratic_roots(a, b, c)\n",
    "print(\"(c) Accurate roots:\", roots_accurate)"
   ]
  },
  {
   "cell_type": "markdown",
   "metadata": {},
   "source": [
    "6\\. Write a program that implements the function $f(x)=x(x−1)$\n",
    "\n",
    "(a) Calculate the derivative of the function at the point $x = 1$ using the derivative definition:\n",
    "\n",
    "$$\n",
    "\\frac{{\\rm d}f}{{\\rm d}x} = \\lim_{\\delta\\to0} \\frac{f(x+\\delta)-f(x)}{\\delta}\n",
    "$$\n",
    "\n",
    "with $\\delta = 10^{−2}$. Calculate the true value of the same derivative analytically and compare with the answer your program gives. The two will not agree perfectly. Why not?\n",
    "\n",
    "(b) Repeat the calculation for $\\delta = 10^{−4}, 10^{−6}, 10^{−8}, 10^{−10}, 10^{−12}$ and $10^{−14}$. How does the accuracy scales with $\\delta$?"
   ]
  },
  {
   "cell_type": "code",
   "execution_count": 6,
   "metadata": {},
   "outputs": [
    {
     "name": "stdout",
     "output_type": "stream",
     "text": [
      "(a) Approximate Derivative (delta = 1e-2): 1.010000000000001\n",
      "(a) True Derivative: 1.0\n",
      "(a) Absolute Error: 0.010000000000000897\n",
      "\n",
      "(b) Approximate Derivative (delta = 0.0001): 1.0000999999998899\n",
      "(b) Absolute Error: 9.999999988985486e-05\n",
      "\n",
      "(b) Approximate Derivative (delta = 1e-06): 1.0000009999177333\n",
      "(b) Absolute Error: 9.99917733279787e-07\n",
      "\n",
      "(b) Approximate Derivative (delta = 1e-08): 1.0000000039225287\n",
      "(b) Absolute Error: 3.922528746258536e-09\n",
      "\n",
      "(b) Approximate Derivative (delta = 1e-10): 1.000000082840371\n",
      "(b) Absolute Error: 8.284037100736441e-08\n",
      "\n",
      "(b) Approximate Derivative (delta = 1e-12): 1.0000889005833413\n",
      "(b) Absolute Error: 8.890058334132256e-05\n",
      "\n",
      "(b) Approximate Derivative (delta = 1e-14): 0.9992007221626509\n",
      "(b) Absolute Error: 0.0007992778373491216\n",
      "\n"
     ]
    }
   ],
   "source": [
    "def f(x):\n",
    "    return x * (x - 1)\n",
    "\n",
    "def calculate_derivative(x, delta):\n",
    "    derivative_approx = (f(x + delta) - f(x)) / delta\n",
    "    return derivative_approx\n",
    "\n",
    "# Part (a) with delta = 1e-2\n",
    "x_value = 1.0\n",
    "delta_a = 1e-2\n",
    "\n",
    "derivative_approx_a = calculate_derivative(x_value, delta_a)\n",
    "\n",
    "# Analytical derivative of f(x) = x(x-1)\n",
    "# f'(x) = 2x - 1\n",
    "derivative_true = 2 * x_value - 1\n",
    "\n",
    "print(\"(a) Approximate Derivative (delta = 1e-2):\", derivative_approx_a)\n",
    "print(\"(a) True Derivative:\", derivative_true)\n",
    "print(\"(a) Absolute Error:\", abs(derivative_true - derivative_approx_a))\n",
    "print()\n",
    "\n",
    "# Part (b) for different values of delta\n",
    "deltas_b = [1e-4, 1e-6, 1e-8, 1e-10, 1e-12, 1e-14]\n",
    "\n",
    "for delta in deltas_b:\n",
    "    derivative_approx_b = calculate_derivative(x_value, delta)\n",
    "    absolute_error = abs(derivative_true - derivative_approx_b)\n",
    "    print(f\"(b) Approximate Derivative (delta = {delta}):\", derivative_approx_b)\n",
    "    print(f\"(b) Absolute Error:\", absolute_error)\n",
    "    print()"
   ]
  },
  {
   "cell_type": "markdown",
   "metadata": {},
   "source": [
    "7\\. Consider the integral of the semicircle of radius 1:\n",
    "$$\n",
    "I=\\int_{-1}^{1} \\sqrt(1-x^2) {\\rm d}x\n",
    "$$\n",
    "which it's known to be $I=\\frac{\\pi}{2}=1.57079632679...$.\n",
    "Alternatively we can use the Riemann definition of the integral:\n",
    "$$\n",
    "I=\\lim_{N\\to\\infty} \\sum_{k=1}^{N} h y_k \n",
    "$$\n",
    "\n",
    "with $h=2/N$ the width of each of the $N$ slices the domain is divided into and where\n",
    "$y_k$ is the value of the function at the $k-$th slice.\n",
    "\n",
    "(a) Write a programe to compute the integral with $N=100$. How does the result compares to the true value?\n",
    "\n",
    "(b) How much can $N$ be increased if the computation needs to be run in less than a second? What is the gain in running it for 1 minute? \n"
   ]
  },
  {
   "cell_type": "code",
   "execution_count": null,
   "metadata": {},
   "outputs": [],
   "source": [
    "import time\n",
    "\n",
    "def semicircle_function(x):\n",
    "    return (1 - x**2)**0.5\n",
    "\n",
    "def riemann_integral_approximation(N):\n",
    "    h = 2 / N\n",
    "    integral_approximation = sum(h * semicircle_function(-1 + k * h) for k in range(1, N + 1))\n",
    "    return integral_approximation\n",
    "\n",
    "# (a) Compute the integral with N=100\n",
    "N_a = 100\n",
    "result_a = riemann_integral_approximation(N_a)\n",
    "true_value = 1.57079632679\n",
    "\n",
    "print(\"(a) Result with N=100:\", result_a)\n",
    "print(\"(a) True value:\", true_value)\n",
    "print(\"(a) Absolute Error:\", abs(result_a - true_value))\n",
    "print()\n",
    "\n",
    "# (b) Test computation time for increasing N\n",
    "N_b = 1000\n",
    "start_time = time.time()\n",
    "result_b = riemann_integral_approximation(N_b)\n",
    "elapsed_time = time.time() - start_time\n",
    "\n",
    "print(\"(b) Result with N=1000:\", result_b)\n",
    "print(\"(b) Computation Time:\", elapsed_time, \"seconds\")\n",
    "\n",
    "# Determine the maximum N for computation in less than 1 second\n",
    "max_N_1s = int(1 / elapsed_time)\n",
    "print(\"(b) Maximum N for 1-second computation:\", max_N_1s)\n",
    "\n",
    "# Determine the gain in running for 1 minute\n",
    "max_N_1min = int(60 / elapsed_time)\n",
    "print(\"(b) Maximum N for 1-minute computation:\", max_N_1min)\n",
    "print(\"(b) Gain in running for 1 minute:\", max_N_1min / N_b)"
   ]
  }
 ],
 "metadata": {
  "kernelspec": {
   "display_name": "Python 3 (ipykernel)",
   "language": "python",
   "name": "python3"
  },
  "language_info": {
   "codemirror_mode": {
    "name": "ipython",
    "version": 3
   },
   "file_extension": ".py",
   "mimetype": "text/x-python",
   "name": "python",
   "nbconvert_exporter": "python",
   "pygments_lexer": "ipython3",
   "version": "3.11.5"
  }
 },
 "nbformat": 4,
 "nbformat_minor": 2
}
